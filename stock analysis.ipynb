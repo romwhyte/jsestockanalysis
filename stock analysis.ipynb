{
 "cells": [
  {
   "cell_type": "markdown",
   "metadata": {},
   "source": [
    "<h1>Jamaica Stock Exchange Analysis  </h1>\n",
    "<p> Basic anslysis data sciences information </p>\n",
    "<ul> \n",
    "<li> Calculate Simple Rate of Return </li>\n",
    "<li> Stock Risk calculation\n",
    "<li> Adjustment of split stocks 2015-2018</li>\n",
    "<li> Adjust for dividends to stock analysis </li>    \n",
    "<li> Bollinger Band to stock analysis </li>        \n",
    "<li> Calculate Rate of Return for Portfolio </li>\n",
    "<li> Calculate Risk Variance for Portfolio </li>\n",
    "<li> Sharpe stocks Calculation</li>\n",
    "<li> JSE-Index vs Price Regression on stocks </li>\n",
    "<li> Markowitz Portfolio effeciency </li>\n",
    "<li> CAPM - Capital Asset Pricing Model </li>\n",
    "</ul>\n",
    "<p><b> #Todo </b><i>Predictive Model</i></p>\n",
    "<p><b> #Todo </b><i>MACDs</i></p>\n",
    "\n",
    "\n",
    "<p>&copy; 2018 Romayne Whyte (Ijasoft) <p>\n"
   ]
  },
  {
   "cell_type": "code",
   "execution_count": 1,
   "metadata": {},
   "outputs": [],
   "source": [
    "import pandas as pd\n",
    "import numpy as np\n",
    "import os\n",
    "import datetime \n",
    "import matplotlib.pyplot as plt\n",
    "import seaborn as sns\n",
    "import dataset as dt\n",
    "import statsmodels.api as sm\n",
    "from scipy import stats\n",
    "from scipy import linalg\n",
    "from sklearn.linear_model import LinearRegression\n",
    "from sklearn.model_selection import train_test_split\n",
    "%matplotlib inline"
   ]
  },
  {
   "cell_type": "markdown",
   "metadata": {},
   "source": [
    "<h2>Pulling Informtion from CSV Files</h2>"
   ]
  },
  {
   "cell_type": "code",
   "execution_count": 2,
   "metadata": {},
   "outputs": [
    {
     "name": "stdout",
     "output_type": "stream",
     "text": [
      "           Symbol  Close  split  dividend\n",
      "Date                                     \n",
      "2017-03-10    AMG   4.87    5.0       0.0\n",
      "           Symbol  Close  split  dividend\n",
      "Date                                     \n",
      "2018-08-28   BPOW    4.7   10.0       0.0\n",
      "           Symbol  Close  split  dividend\n",
      "Date                                     \n",
      "2017-09-18    CAR  10.87   10.0       0.0\n",
      "           Symbol  Close  split  dividend\n",
      "Date                                     \n",
      "2018-09-05    DTL   2.65   10.0       0.0\n",
      "           Symbol  Close  split  dividend\n",
      "Date                                     \n",
      "2017-04-18   JAMT   3.67    2.0       0.0\n",
      "            Symbol  Close  split  dividend\n",
      "Date                                      \n",
      "2017-06-22  JETCON   5.66    4.0       0.0\n",
      "           Symbol  Close  split  dividend\n",
      "Date                                     \n",
      "2017-05-31    KEX   15.0    5.0       0.0\n",
      "            Symbol  Close  split  dividend\n",
      "Date                                      \n",
      "2017-05-19  KPREIT    8.3    2.0       0.0\n",
      "           Symbol  Close  split  dividend\n",
      "Date                                     \n",
      "2017-07-03   PULS   3.38    5.0       0.0\n",
      "           Symbol  Close  split  dividend\n",
      "Date                                     \n",
      "2018-11-26    SIL    4.1    5.0       0.0\n"
     ]
    }
   ],
   "source": [
    "#Pull the valid stock information\n",
    "folder = 'project'\n",
    "stkframe, divframe = dt.generate_stock_dataframe(folder)\n",
    "df_ind_data =  dt.pull_indices(folder)"
   ]
  },
  {
   "cell_type": "code",
   "execution_count": 4,
   "metadata": {},
   "outputs": [
    {
     "data": {
      "text/html": [
       "<div>\n",
       "<style scoped>\n",
       "    .dataframe tbody tr th:only-of-type {\n",
       "        vertical-align: middle;\n",
       "    }\n",
       "\n",
       "    .dataframe tbody tr th {\n",
       "        vertical-align: top;\n",
       "    }\n",
       "\n",
       "    .dataframe thead th {\n",
       "        text-align: right;\n",
       "    }\n",
       "</style>\n",
       "<table border=\"1\" class=\"dataframe\">\n",
       "  <thead>\n",
       "    <tr style=\"text-align: right;\">\n",
       "      <th></th>\n",
       "      <th>CCC</th>\n",
       "      <th>1834</th>\n",
       "      <th>AFS</th>\n",
       "      <th>AMG</th>\n",
       "      <th>BIL</th>\n",
       "      <th>BPOW</th>\n",
       "      <th>BRG</th>\n",
       "      <th>CAC</th>\n",
       "      <th>CAR</th>\n",
       "      <th>CBNY</th>\n",
       "      <th>...</th>\n",
       "      <th>SJ</th>\n",
       "      <th>SML</th>\n",
       "      <th>SOS</th>\n",
       "      <th>SRA</th>\n",
       "      <th>SSLVC</th>\n",
       "      <th>SVL</th>\n",
       "      <th>TTECH</th>\n",
       "      <th>VMIL</th>\n",
       "      <th>WISYNCO</th>\n",
       "      <th>XFUND</th>\n",
       "    </tr>\n",
       "    <tr>\n",
       "      <th>Date</th>\n",
       "      <th></th>\n",
       "      <th></th>\n",
       "      <th></th>\n",
       "      <th></th>\n",
       "      <th></th>\n",
       "      <th></th>\n",
       "      <th></th>\n",
       "      <th></th>\n",
       "      <th></th>\n",
       "      <th></th>\n",
       "      <th></th>\n",
       "      <th></th>\n",
       "      <th></th>\n",
       "      <th></th>\n",
       "      <th></th>\n",
       "      <th></th>\n",
       "      <th></th>\n",
       "      <th></th>\n",
       "      <th></th>\n",
       "      <th></th>\n",
       "      <th></th>\n",
       "    </tr>\n",
       "  </thead>\n",
       "  <tbody>\n",
       "    <tr>\n",
       "      <th>2008-01-02</th>\n",
       "      <td>9.50</td>\n",
       "      <td>NaN</td>\n",
       "      <td>NaN</td>\n",
       "      <td>NaN</td>\n",
       "      <td>NaN</td>\n",
       "      <td>NaN</td>\n",
       "      <td>NaN</td>\n",
       "      <td>NaN</td>\n",
       "      <td>NaN</td>\n",
       "      <td>NaN</td>\n",
       "      <td>...</td>\n",
       "      <td>NaN</td>\n",
       "      <td>NaN</td>\n",
       "      <td>NaN</td>\n",
       "      <td>NaN</td>\n",
       "      <td>NaN</td>\n",
       "      <td>2.40</td>\n",
       "      <td>NaN</td>\n",
       "      <td>NaN</td>\n",
       "      <td>NaN</td>\n",
       "      <td>NaN</td>\n",
       "    </tr>\n",
       "    <tr>\n",
       "      <th>2008-01-03</th>\n",
       "      <td>10.00</td>\n",
       "      <td>4.19</td>\n",
       "      <td>NaN</td>\n",
       "      <td>NaN</td>\n",
       "      <td>NaN</td>\n",
       "      <td>NaN</td>\n",
       "      <td>NaN</td>\n",
       "      <td>NaN</td>\n",
       "      <td>7.101</td>\n",
       "      <td>NaN</td>\n",
       "      <td>...</td>\n",
       "      <td>NaN</td>\n",
       "      <td>NaN</td>\n",
       "      <td>NaN</td>\n",
       "      <td>NaN</td>\n",
       "      <td>NaN</td>\n",
       "      <td>2.75</td>\n",
       "      <td>NaN</td>\n",
       "      <td>NaN</td>\n",
       "      <td>NaN</td>\n",
       "      <td>NaN</td>\n",
       "    </tr>\n",
       "    <tr>\n",
       "      <th>2008-01-04</th>\n",
       "      <td>10.00</td>\n",
       "      <td>4.05</td>\n",
       "      <td>NaN</td>\n",
       "      <td>NaN</td>\n",
       "      <td>NaN</td>\n",
       "      <td>NaN</td>\n",
       "      <td>3.02</td>\n",
       "      <td>NaN</td>\n",
       "      <td>7.800</td>\n",
       "      <td>0.01</td>\n",
       "      <td>...</td>\n",
       "      <td>NaN</td>\n",
       "      <td>NaN</td>\n",
       "      <td>NaN</td>\n",
       "      <td>NaN</td>\n",
       "      <td>NaN</td>\n",
       "      <td>2.75</td>\n",
       "      <td>NaN</td>\n",
       "      <td>NaN</td>\n",
       "      <td>NaN</td>\n",
       "      <td>NaN</td>\n",
       "    </tr>\n",
       "    <tr>\n",
       "      <th>2008-01-07</th>\n",
       "      <td>10.00</td>\n",
       "      <td>4.00</td>\n",
       "      <td>NaN</td>\n",
       "      <td>NaN</td>\n",
       "      <td>NaN</td>\n",
       "      <td>NaN</td>\n",
       "      <td>3.05</td>\n",
       "      <td>NaN</td>\n",
       "      <td>7.799</td>\n",
       "      <td>NaN</td>\n",
       "      <td>...</td>\n",
       "      <td>NaN</td>\n",
       "      <td>NaN</td>\n",
       "      <td>NaN</td>\n",
       "      <td>NaN</td>\n",
       "      <td>NaN</td>\n",
       "      <td>2.51</td>\n",
       "      <td>NaN</td>\n",
       "      <td>NaN</td>\n",
       "      <td>NaN</td>\n",
       "      <td>NaN</td>\n",
       "    </tr>\n",
       "    <tr>\n",
       "      <th>2008-01-08</th>\n",
       "      <td>10.45</td>\n",
       "      <td>4.00</td>\n",
       "      <td>NaN</td>\n",
       "      <td>NaN</td>\n",
       "      <td>NaN</td>\n",
       "      <td>NaN</td>\n",
       "      <td>3.05</td>\n",
       "      <td>NaN</td>\n",
       "      <td>7.400</td>\n",
       "      <td>NaN</td>\n",
       "      <td>...</td>\n",
       "      <td>NaN</td>\n",
       "      <td>NaN</td>\n",
       "      <td>NaN</td>\n",
       "      <td>NaN</td>\n",
       "      <td>NaN</td>\n",
       "      <td>2.80</td>\n",
       "      <td>NaN</td>\n",
       "      <td>NaN</td>\n",
       "      <td>NaN</td>\n",
       "      <td>NaN</td>\n",
       "    </tr>\n",
       "  </tbody>\n",
       "</table>\n",
       "<p>5 rows × 73 columns</p>\n",
       "</div>"
      ],
      "text/plain": [
       "              CCC  1834  AFS  AMG  BIL  BPOW   BRG  CAC    CAR  CBNY  ...    \\\n",
       "Date                                                                  ...     \n",
       "2008-01-02   9.50   NaN  NaN  NaN  NaN   NaN   NaN  NaN    NaN   NaN  ...     \n",
       "2008-01-03  10.00  4.19  NaN  NaN  NaN   NaN   NaN  NaN  7.101   NaN  ...     \n",
       "2008-01-04  10.00  4.05  NaN  NaN  NaN   NaN  3.02  NaN  7.800  0.01  ...     \n",
       "2008-01-07  10.00  4.00  NaN  NaN  NaN   NaN  3.05  NaN  7.799   NaN  ...     \n",
       "2008-01-08  10.45  4.00  NaN  NaN  NaN   NaN  3.05  NaN  7.400   NaN  ...     \n",
       "\n",
       "            SJ  SML  SOS  SRA  SSLVC   SVL  TTECH  VMIL  WISYNCO  XFUND  \n",
       "Date                                                                     \n",
       "2008-01-02 NaN  NaN  NaN  NaN    NaN  2.40    NaN   NaN      NaN    NaN  \n",
       "2008-01-03 NaN  NaN  NaN  NaN    NaN  2.75    NaN   NaN      NaN    NaN  \n",
       "2008-01-04 NaN  NaN  NaN  NaN    NaN  2.75    NaN   NaN      NaN    NaN  \n",
       "2008-01-07 NaN  NaN  NaN  NaN    NaN  2.51    NaN   NaN      NaN    NaN  \n",
       "2008-01-08 NaN  NaN  NaN  NaN    NaN  2.80    NaN   NaN      NaN    NaN  \n",
       "\n",
       "[5 rows x 73 columns]"
      ]
     },
     "execution_count": 4,
     "metadata": {},
     "output_type": "execute_result"
    }
   ],
   "source": [
    "stkframe.head()"
   ]
  },
  {
   "cell_type": "code",
   "execution_count": 5,
   "metadata": {},
   "outputs": [
    {
     "data": {
      "text/html": [
       "<div>\n",
       "<style scoped>\n",
       "    .dataframe tbody tr th:only-of-type {\n",
       "        vertical-align: middle;\n",
       "    }\n",
       "\n",
       "    .dataframe tbody tr th {\n",
       "        vertical-align: top;\n",
       "    }\n",
       "\n",
       "    .dataframe thead th {\n",
       "        text-align: right;\n",
       "    }\n",
       "</style>\n",
       "<table border=\"1\" class=\"dataframe\">\n",
       "  <thead>\n",
       "    <tr style=\"text-align: right;\">\n",
       "      <th></th>\n",
       "      <th>CCC</th>\n",
       "      <th>1834</th>\n",
       "      <th>AFS</th>\n",
       "      <th>AMG</th>\n",
       "      <th>BIL</th>\n",
       "      <th>BPOW</th>\n",
       "      <th>BRG</th>\n",
       "      <th>CAC</th>\n",
       "      <th>CAR</th>\n",
       "      <th>CBNY</th>\n",
       "      <th>...</th>\n",
       "      <th>SJ</th>\n",
       "      <th>SML</th>\n",
       "      <th>SOS</th>\n",
       "      <th>SRA</th>\n",
       "      <th>SSLVC</th>\n",
       "      <th>SVL</th>\n",
       "      <th>TTECH</th>\n",
       "      <th>VMIL</th>\n",
       "      <th>WISYNCO</th>\n",
       "      <th>XFUND</th>\n",
       "    </tr>\n",
       "    <tr>\n",
       "      <th>Date</th>\n",
       "      <th></th>\n",
       "      <th></th>\n",
       "      <th></th>\n",
       "      <th></th>\n",
       "      <th></th>\n",
       "      <th></th>\n",
       "      <th></th>\n",
       "      <th></th>\n",
       "      <th></th>\n",
       "      <th></th>\n",
       "      <th></th>\n",
       "      <th></th>\n",
       "      <th></th>\n",
       "      <th></th>\n",
       "      <th></th>\n",
       "      <th></th>\n",
       "      <th></th>\n",
       "      <th></th>\n",
       "      <th></th>\n",
       "      <th></th>\n",
       "      <th></th>\n",
       "    </tr>\n",
       "  </thead>\n",
       "  <tbody>\n",
       "    <tr>\n",
       "      <th>2008-01-02</th>\n",
       "      <td>0.0</td>\n",
       "      <td>NaN</td>\n",
       "      <td>NaN</td>\n",
       "      <td>NaN</td>\n",
       "      <td>NaN</td>\n",
       "      <td>NaN</td>\n",
       "      <td>NaN</td>\n",
       "      <td>NaN</td>\n",
       "      <td>NaN</td>\n",
       "      <td>NaN</td>\n",
       "      <td>...</td>\n",
       "      <td>NaN</td>\n",
       "      <td>NaN</td>\n",
       "      <td>NaN</td>\n",
       "      <td>NaN</td>\n",
       "      <td>NaN</td>\n",
       "      <td>0.0</td>\n",
       "      <td>NaN</td>\n",
       "      <td>NaN</td>\n",
       "      <td>NaN</td>\n",
       "      <td>NaN</td>\n",
       "    </tr>\n",
       "    <tr>\n",
       "      <th>2008-01-03</th>\n",
       "      <td>0.0</td>\n",
       "      <td>0.0</td>\n",
       "      <td>NaN</td>\n",
       "      <td>NaN</td>\n",
       "      <td>NaN</td>\n",
       "      <td>NaN</td>\n",
       "      <td>NaN</td>\n",
       "      <td>NaN</td>\n",
       "      <td>0.0</td>\n",
       "      <td>NaN</td>\n",
       "      <td>...</td>\n",
       "      <td>NaN</td>\n",
       "      <td>NaN</td>\n",
       "      <td>NaN</td>\n",
       "      <td>NaN</td>\n",
       "      <td>NaN</td>\n",
       "      <td>0.0</td>\n",
       "      <td>NaN</td>\n",
       "      <td>NaN</td>\n",
       "      <td>NaN</td>\n",
       "      <td>NaN</td>\n",
       "    </tr>\n",
       "    <tr>\n",
       "      <th>2008-01-04</th>\n",
       "      <td>0.0</td>\n",
       "      <td>0.0</td>\n",
       "      <td>NaN</td>\n",
       "      <td>NaN</td>\n",
       "      <td>NaN</td>\n",
       "      <td>NaN</td>\n",
       "      <td>0.0</td>\n",
       "      <td>NaN</td>\n",
       "      <td>0.0</td>\n",
       "      <td>0.0</td>\n",
       "      <td>...</td>\n",
       "      <td>NaN</td>\n",
       "      <td>NaN</td>\n",
       "      <td>NaN</td>\n",
       "      <td>NaN</td>\n",
       "      <td>NaN</td>\n",
       "      <td>0.0</td>\n",
       "      <td>NaN</td>\n",
       "      <td>NaN</td>\n",
       "      <td>NaN</td>\n",
       "      <td>NaN</td>\n",
       "    </tr>\n",
       "    <tr>\n",
       "      <th>2008-01-07</th>\n",
       "      <td>0.0</td>\n",
       "      <td>0.0</td>\n",
       "      <td>NaN</td>\n",
       "      <td>NaN</td>\n",
       "      <td>NaN</td>\n",
       "      <td>NaN</td>\n",
       "      <td>0.0</td>\n",
       "      <td>NaN</td>\n",
       "      <td>0.0</td>\n",
       "      <td>NaN</td>\n",
       "      <td>...</td>\n",
       "      <td>NaN</td>\n",
       "      <td>NaN</td>\n",
       "      <td>NaN</td>\n",
       "      <td>NaN</td>\n",
       "      <td>NaN</td>\n",
       "      <td>0.0</td>\n",
       "      <td>NaN</td>\n",
       "      <td>NaN</td>\n",
       "      <td>NaN</td>\n",
       "      <td>NaN</td>\n",
       "    </tr>\n",
       "    <tr>\n",
       "      <th>2008-01-08</th>\n",
       "      <td>0.0</td>\n",
       "      <td>0.0</td>\n",
       "      <td>NaN</td>\n",
       "      <td>NaN</td>\n",
       "      <td>NaN</td>\n",
       "      <td>NaN</td>\n",
       "      <td>0.0</td>\n",
       "      <td>NaN</td>\n",
       "      <td>0.0</td>\n",
       "      <td>NaN</td>\n",
       "      <td>...</td>\n",
       "      <td>NaN</td>\n",
       "      <td>NaN</td>\n",
       "      <td>NaN</td>\n",
       "      <td>NaN</td>\n",
       "      <td>NaN</td>\n",
       "      <td>0.0</td>\n",
       "      <td>NaN</td>\n",
       "      <td>NaN</td>\n",
       "      <td>NaN</td>\n",
       "      <td>NaN</td>\n",
       "    </tr>\n",
       "  </tbody>\n",
       "</table>\n",
       "<p>5 rows × 73 columns</p>\n",
       "</div>"
      ],
      "text/plain": [
       "            CCC  1834  AFS  AMG  BIL  BPOW  BRG  CAC  CAR  CBNY  ...    SJ  \\\n",
       "Date                                                             ...         \n",
       "2008-01-02  0.0   NaN  NaN  NaN  NaN   NaN  NaN  NaN  NaN   NaN  ...   NaN   \n",
       "2008-01-03  0.0   0.0  NaN  NaN  NaN   NaN  NaN  NaN  0.0   NaN  ...   NaN   \n",
       "2008-01-04  0.0   0.0  NaN  NaN  NaN   NaN  0.0  NaN  0.0   0.0  ...   NaN   \n",
       "2008-01-07  0.0   0.0  NaN  NaN  NaN   NaN  0.0  NaN  0.0   NaN  ...   NaN   \n",
       "2008-01-08  0.0   0.0  NaN  NaN  NaN   NaN  0.0  NaN  0.0   NaN  ...   NaN   \n",
       "\n",
       "            SML  SOS  SRA  SSLVC  SVL  TTECH  VMIL  WISYNCO  XFUND  \n",
       "Date                                                                \n",
       "2008-01-02  NaN  NaN  NaN    NaN  0.0    NaN   NaN      NaN    NaN  \n",
       "2008-01-03  NaN  NaN  NaN    NaN  0.0    NaN   NaN      NaN    NaN  \n",
       "2008-01-04  NaN  NaN  NaN    NaN  0.0    NaN   NaN      NaN    NaN  \n",
       "2008-01-07  NaN  NaN  NaN    NaN  0.0    NaN   NaN      NaN    NaN  \n",
       "2008-01-08  NaN  NaN  NaN    NaN  0.0    NaN   NaN      NaN    NaN  \n",
       "\n",
       "[5 rows x 73 columns]"
      ]
     },
     "execution_count": 5,
     "metadata": {},
     "output_type": "execute_result"
    }
   ],
   "source": [
    "divframe.head()"
   ]
  },
  {
   "cell_type": "markdown",
   "metadata": {},
   "source": [
    "<h2> Filter the data to a Time Range </h2>\n",
    "<p> This Allows to specify the time range analyse stocks </p>"
   ]
  },
  {
   "cell_type": "code",
   "execution_count": null,
   "metadata": {},
   "outputs": [],
   "source": [
    "#filter the data for the 01 January 2018 to 31 December, 2018\n",
    "\n",
    "startdate = '2016-01-01'\n",
    "enddate = '2018-12-31'\n",
    "\n",
    "stkframe=stkframe[startdate:enddate]\n",
    "divframe = divframe[startdate:enddate]\n",
    "df_ind_data = df_ind_data[startdate:enddate]"
   ]
  },
  {
   "cell_type": "code",
   "execution_count": null,
   "metadata": {},
   "outputs": [],
   "source": [
    "stkframe.info()"
   ]
  },
  {
   "cell_type": "code",
   "execution_count": null,
   "metadata": {},
   "outputs": [],
   "source": [
    "stkframe.head()"
   ]
  },
  {
   "cell_type": "code",
   "execution_count": null,
   "metadata": {},
   "outputs": [],
   "source": [
    "stkframe.tail()"
   ]
  },
  {
   "cell_type": "code",
   "execution_count": null,
   "metadata": {},
   "outputs": [],
   "source": [
    "#filter the data for the 01 January 2018 to 03 December, 2018\n",
    "#df_ind_data=df_ind_data['2018-01-01': '2018-11-31']\n",
    "\n",
    "df_ind_data.info()\n"
   ]
  },
  {
   "cell_type": "markdown",
   "metadata": {},
   "source": [
    "<h2>Time for Some Financial Analysis</h2>"
   ]
  },
  {
   "cell_type": "markdown",
   "metadata": {},
   "source": [
    "<h3> Analysis for the indicies <h3>"
   ]
  },
  {
   "cell_type": "code",
   "execution_count": null,
   "metadata": {},
   "outputs": [],
   "source": [
    "#Jamica Indices Return \n",
    "ind_returns = np.log(df_ind_data / df_ind_data.shift(1)) \n",
    "ind_returns.head()"
   ]
  },
  {
   "cell_type": "code",
   "execution_count": null,
   "metadata": {},
   "outputs": [],
   "source": [
    "ind_returns.tail()"
   ]
  },
  {
   "cell_type": "code",
   "execution_count": null,
   "metadata": {},
   "outputs": [],
   "source": [
    "indicesplot = ((df_ind_data / df_ind_data.iloc[0]) * 100)\n",
    "indicesplot.sort_index(axis=0).head()\n",
    "indicesplot.plot(figsize=(15, 6),linewidth=1);\n",
    "#plt.rcParams.update({'font.size': 12})\n",
    "#(df_ind_data / df_ind_data.iloc[0] * 100).plot(figsize=(15, 6));\n",
    "plt.show()\n"
   ]
  },
  {
   "cell_type": "code",
   "execution_count": null,
   "metadata": {},
   "outputs": [],
   "source": [
    "#indicies Annual Rate of Return\n",
    "annual_ind_returns = ind_returns.apply(lambda x: (x.mean()*250) if  x.count() > 250 else (x.mean() * x.count())) \n",
    "#annual_ind_returns = ind_returns.mean() * ind_returns.count()\n",
    "round(annual_ind_returns[:] * 100,5)"
   ]
  },
  {
   "cell_type": "markdown",
   "metadata": {},
   "source": [
    "<h3> Analysis for Jamaia Stocks </h3>"
   ]
  },
  {
   "cell_type": "code",
   "execution_count": null,
   "metadata": {},
   "outputs": [],
   "source": [
    "# This is simple rate of returns \n",
    "#rate_return = (stkframe/stkframe.shift(1))-1\n",
    "# same as \n",
    "#rate_return = stkframe.pct_change()\n",
    "\n",
    "# This is simple rate of returns with dividends involved\n",
    "#rate_return = ((stkframe+divframe)/stkframe.shift(1))-1\n",
    "\n",
    "# This is rate of returns with log\n",
    "#rate_return_div = np.log((stkframe+divframe)/stkframe.shift(1))\n",
    "rate_return_div = np.log(stkframe/stkframe.shift(1))\n",
    "rate_return = np.log(stkframe/stkframe.shift(1))\n",
    "rate_return = rate_return.replace([np.inf, -np.inf], np.nan)\n",
    "rate_return.head()"
   ]
  },
  {
   "cell_type": "code",
   "execution_count": null,
   "metadata": {},
   "outputs": [],
   "source": [
    "rate_return.tail()"
   ]
  },
  {
   "cell_type": "code",
   "execution_count": null,
   "metadata": {},
   "outputs": [],
   "source": [
    "#Sample of rate of return\n",
    "sym = 'SJ'\n",
    "\n",
    "rate_return[sym].plot()\n",
    "plt.figure(figsize=(30,25), dpi=80, facecolor='w', edgecolor='k')\n",
    "plt.rcParams.update({'font.size': 10})\n",
    "plt.show()"
   ]
  },
  {
   "cell_type": "code",
   "execution_count": null,
   "metadata": {
    "scrolled": true
   },
   "outputs": [],
   "source": [
    "\n",
    "\n",
    "\n",
    "\n",
    "df_closing = stkframe[sym]\n",
    "df_30days = df_closing.rolling(window=20).mean()\n",
    "df_30std = df_closing.rolling(window=20).std()\n",
    "df_upperband = df_30days + (df_30std * 2)\n",
    "df_lowerband = df_30days - (df_30std * 2)\n",
    "\n",
    "#df_30days = df_closing.rolling( 30 ).mean()\n",
    "#df_expand = df_closing.expanding().mean()\n",
    "#df_ewm = df_closing.ewm(alpha=0.03).mean()\n",
    "\n",
    "fig = plt.figure(figsize=(30,10))\n",
    "plt.rcParams.update({'font.size': 22})\n",
    "fig.autofmt_xdate()\n",
    "ax = fig.add_subplot(1,1,1)\n",
    "ax.plot(df_closing.index, df_closing, label=sym)\n",
    "ax.plot(df_30days.index, df_30days, label='30 days rolling') #simple moving average\n",
    "ax.plot(df_upperband.index, df_upperband, label='Upper Band') #simple moving average\n",
    "ax.plot(df_lowerband.index, df_lowerband, label='Lower Band') #simple moving average\n",
    "\n",
    "\n",
    "#ax.plot(df_30days.index, df_30days, label='30 days rolling') #simple moving average\n",
    "#ax.plot(df_expand.index, df_30days, label='Expanding Average')\n",
    "#ax.plot(df_ewm.index, df_ewm, label='EWMA($\\\\alpha=.03$)') # Exponentially weighted moving average\n",
    "\n",
    "ax.grid()\n",
    "ax.legend(loc=0)\n",
    "ax.set_xlabel('Date')\n",
    "plt.title(sym+' Adjusted Closes & Rolling Averages to 2018')\n",
    "plt.plot()"
   ]
  },
  {
   "cell_type": "code",
   "execution_count": null,
   "metadata": {},
   "outputs": [],
   "source": [
    "# set style, empty figure and axes\n",
    "plt.style.use('fivethirtyeight')\n",
    "fig = plt.figure(figsize=(12,6))\n",
    "ax = fig.add_subplot(111)\n",
    "\n",
    "# Get index values for the X axis for facebook DataFrame\n",
    "x_axis = df_closing.index.get_level_values(0)\n",
    "\n",
    "# Plot shaded 21 Day Bollinger Band for Facebook\n",
    "ax.fill_between(x_axis, df_upperband, df_lowerband, color='grey')\n",
    "\n",
    "# Plot Adjust Closing Price and Moving Averages\n",
    "ax.plot(x_axis, df_closing, color='blue', lw=2)\n",
    "ax.plot(x_axis, df_30days, color='black',label='30 days rolling', lw=2)\n",
    "\n",
    "# Set Title & Show the Image\n",
    "ax.set_title('30 Day Bollinger Band For '+ sym)\n",
    "ax.set_xlabel('Date (Year/Month)')\n",
    "ax.set_ylabel('Price(JMD)')\n",
    "ax.legend()\n",
    "plt.show();"
   ]
  },
  {
   "cell_type": "code",
   "execution_count": null,
   "metadata": {},
   "outputs": [],
   "source": [
    "rate_return[sym].dropna().head(),rate_return[sym].tail()"
   ]
  },
  {
   "cell_type": "code",
   "execution_count": null,
   "metadata": {},
   "outputs": [],
   "source": [
    "stkframe[sym].dropna().head(),stkframe[sym].tail()"
   ]
  },
  {
   "cell_type": "code",
   "execution_count": null,
   "metadata": {},
   "outputs": [],
   "source": [
    "\n",
    "#Calculate the Average Rate of Return\n",
    "\n",
    "avg_returns = rate_return_div.apply(lambda x: (x.mean()*250) if  x.count() > 250 else (x.mean() * x.count()))\n",
    "\n",
    "# Drop all records with no application\n",
    "avg_returns = avg_returns.dropna()\n",
    "# Drop all record with 0 as rate of return\n",
    "#avg_returns = avg_returns.drop(avg_returns[avg_returns == 0].index)\n",
    "round(avg_returns[avg_returns > 0].sort_values(),5)*100"
   ]
  },
  {
   "cell_type": "code",
   "execution_count": null,
   "metadata": {},
   "outputs": [],
   "source": [
    "#find the stocks that have split\n",
    "round(avg_returns[avg_returns <= 0].sort_values(),5)*100"
   ]
  },
  {
   "cell_type": "markdown",
   "metadata": {},
   "source": [
    "<h3> Calculate Stock Return Risk (Standard Deviation) </h3>"
   ]
  },
  {
   "cell_type": "code",
   "execution_count": null,
   "metadata": {},
   "outputs": [],
   "source": [
    "stk_std_risk = rate_return.apply(lambda x: (x.std()* 250 ** 0.5 ) if  x.count() > 250 else (x.std() * x.count() ** 0.5))\n",
    "round(stk_std_risk.sort_values(),5) * 100"
   ]
  },
  {
   "cell_type": "markdown",
   "metadata": {},
   "source": [
    "<h3> Sharpe Ratio </h3>"
   ]
  },
  {
   "cell_type": "code",
   "execution_count": null,
   "metadata": {
    "scrolled": true
   },
   "outputs": [],
   "source": [
    "bondRiskFreeRate = 0.05\n",
    "sharpe = (avg_returns - bondRiskFreeRate) / stk_std_risk\n",
    "sharpe[sharpe > 0].sort_values() "
   ]
  },
  {
   "cell_type": "code",
   "execution_count": null,
   "metadata": {},
   "outputs": [],
   "source": [
    "sharpe[sharpe <= 0].sort_values() "
   ]
  },
  {
   "cell_type": "markdown",
   "metadata": {},
   "source": [
    "<h3> Stock Correlation </h3>"
   ]
  },
  {
   "cell_type": "code",
   "execution_count": null,
   "metadata": {},
   "outputs": [],
   "source": [
    "rate_with_index = pd.merge(rate_return,ind_returns[['JSE-Index', 'JSE-Junior']],left_index=True,right_index=True)\n",
    "\n",
    "#Variance of two stocks\n",
    "rate_with_index[[sym,'JSE-Index']].var() "
   ]
  },
  {
   "cell_type": "code",
   "execution_count": null,
   "metadata": {},
   "outputs": [],
   "source": [
    "#Annualize the Variance\n",
    "rate_with_index[[sym,'JSE-Index']].var() * 250"
   ]
  },
  {
   "cell_type": "code",
   "execution_count": null,
   "metadata": {},
   "outputs": [],
   "source": [
    "#Covariance of two stock\n",
    "rate_with_index[[sym,'JSE-Index']].cov() "
   ]
  },
  {
   "cell_type": "code",
   "execution_count": null,
   "metadata": {},
   "outputs": [],
   "source": [
    "#Annualize covariance of two stock\n",
    "rate_with_index[[sym,'JSE-Index']].cov() * 250"
   ]
  },
  {
   "cell_type": "code",
   "execution_count": null,
   "metadata": {},
   "outputs": [],
   "source": [
    "#Correlation of returns of two stock\n",
    "rate_with_index[[sym,'JSE-Index']].corr()"
   ]
  },
  {
   "cell_type": "markdown",
   "metadata": {},
   "source": [
    "<h3> Capital Asset Pricing Model <span>(CAPM)</span>  </h3>"
   ]
  },
  {
   "cell_type": "code",
   "execution_count": null,
   "metadata": {},
   "outputs": [],
   "source": [
    "#Calculate the Beta of all stocks\n",
    "asym = []\n",
    "abeta = []\n",
    "for sy in rate_return.T.index:    \n",
    "    adjrate = rate_with_index[[sy,'JSE-Index']].dropna()\n",
    "    annual_count = 250 if adjrate[sy].count() > 250 else adjrate[sy].count()    \n",
    "    cov = adjrate.cov() * annual_count\n",
    "    var = adjrate['JSE-Index'].var() * annual_count\n",
    "    beta = cov.iloc[0,1]/var\n",
    "    \n",
    "    #rate = rate_with_index[[sy,'JSE-Index']].dropna()\n",
    "    #x = rate[sy].tolist()\n",
    "    #y = rate['JSE-Index'].tolist()        \n",
    "    \n",
    "    #x = np.reshape(x, (len(x), 1))\n",
    "    #y = np.reshape(y, (len(y), 1))    \n",
    "    #x1 = sm.add_constant(x)    \n",
    "    #model = sm.OLS(y, x1).fit()                \n",
    "    #beta = model.params[1]\n",
    "    #(beta,alpha,r_value,p_value,std_err) = stats.linregress(x,y) \n",
    "    \n",
    "    \n",
    "    \n",
    "    asym.append(sy)\n",
    "    abeta.append(beta)\n",
    "\n",
    "\n",
    "beta_series = pd.Series(np.array(abeta),index=asym)\n",
    "beta_series[beta_series > 0].sort_values(ascending=False)"
   ]
  },
  {
   "cell_type": "code",
   "execution_count": null,
   "metadata": {},
   "outputs": [],
   "source": [
    "beta_series[beta_series < 0].sort_values(ascending=False)"
   ]
  },
  {
   "cell_type": "code",
   "execution_count": null,
   "metadata": {},
   "outputs": [],
   "source": [
    "# Pull the Equity Risk Premium for Jamaica\n",
    "# http://pages.stern.nyu.edu/~adamodar/New_Home_Page/datafile/ctryprem.html\n",
    "\n",
    "EquityRiskPremium = 0.126"
   ]
  },
  {
   "cell_type": "code",
   "execution_count": null,
   "metadata": {},
   "outputs": [],
   "source": [
    "# This is the CAPM for stock\n",
    "round((bondRiskFreeRate + beta_series * EquityRiskPremium) * 100,4)"
   ]
  },
  {
   "cell_type": "markdown",
   "metadata": {},
   "source": [
    "<h2> Stock Regression </h2>"
   ]
  },
  {
   "cell_type": "code",
   "execution_count": null,
   "metadata": {},
   "outputs": [],
   "source": [
    "df_merge = pd.merge(stkframe,df_ind_data,left_index=True,right_index=True)\n",
    "jseindex = df_merge[['JSE-Index',sym]].dropna()['JSE-Index'].tolist()\n",
    "stock_list = df_merge[['JSE-Index',sym]].dropna()[sym].tolist()"
   ]
  },
  {
   "cell_type": "code",
   "execution_count": null,
   "metadata": {},
   "outputs": [],
   "source": [
    "jseindex = np.reshape(jseindex, (len(jseindex), 1))\n",
    "stock_list = np.reshape(stock_list, (len(stock_list), 1))"
   ]
  },
  {
   "cell_type": "code",
   "execution_count": null,
   "metadata": {},
   "outputs": [],
   "source": [
    "jseindex[1:5]"
   ]
  },
  {
   "cell_type": "code",
   "execution_count": null,
   "metadata": {},
   "outputs": [],
   "source": [
    "jseindex1 = sm.add_constant(jseindex)\n",
    "reg = sm.OLS(stock_list, jseindex1).fit()"
   ]
  },
  {
   "cell_type": "code",
   "execution_count": null,
   "metadata": {
    "scrolled": true
   },
   "outputs": [],
   "source": [
    "print(reg.summary())"
   ]
  },
  {
   "cell_type": "code",
   "execution_count": null,
   "metadata": {
    "scrolled": true
   },
   "outputs": [],
   "source": [
    "#Regression on Price vs Time\n",
    "regressor = LinearRegression()\n",
    "regressor.fit(jseindex, stock_list)\n",
    "plt.rcParams.update({'font.size': 9})\n",
    "plt.scatter(jseindex,stock_list, color='blue', label= 'Actual Price')\n",
    "plt.plot(jseindex, regressor.predict(jseindex), color='red', linewidth=3, label = 'Predicted Price') #plotting the line made by linear regression\n",
    "plt.title(sym +' Linear Regression | JSE-Index vs. Price')\n",
    "plt.legend()\n",
    "plt.xlabel('JSE-Index')\n",
    "plt.ylabel('Prices')\n",
    "plt.show()"
   ]
  },
  {
   "cell_type": "markdown",
   "metadata": {},
   "source": [
    "<h3> Prediction Model Stock</h3>"
   ]
  },
  {
   "cell_type": "code",
   "execution_count": null,
   "metadata": {},
   "outputs": [],
   "source": [
    "#Splitting the dataset into the Training set and Test set\n",
    "xtrain, xtest, ytrain, ytest = train_test_split(jseindex, stock_list, test_size=0.33, random_state=42)\n",
    "\n",
    "xtrain = np.reshape(xtrain, (len(xtrain), 1))\n",
    "ytrain = np.reshape(ytrain, (len(ytrain), 1))\n",
    "\n",
    "xtest = np.reshape(xtest, (len(xtest), 1))\n",
    "ytest = np.reshape(ytest, (len(ytest), 1))\n",
    "\n",
    "regressor.fit(xtrain, ytrain)\n",
    "plt.rcParams.update({'font.size': 9})\n",
    "\n",
    "#Train Set Graph\n",
    "plt.scatter(xtrain, ytrain, color='yellow', label= 'Actual Price') #plotting the initial datapoints\n",
    "plt.plot(xtrain, regressor.predict(xtrain), color='blue', linewidth=3, label = 'Predicted Price') #plotting the line made by linear regression\n",
    "plt.title('Trained Linear Regression | Time vs. Price')\n",
    "plt.legend()\n",
    "plt.xlabel('Date Integer')\n",
    "plt.show()\n",
    "\n",
    "#Test Set Graph\n",
    "plt.scatter(xtest, ytest, color='yellow', label= 'Actual Price') #plotting the initial datapoints\n",
    "plt.plot(xtest, regressor.predict(xtest), color='blue', linewidth=3, label = 'Predicted Price') #plotting the line made by linear regression\n",
    "plt.title('Test Linear Regression | Time vs. Price')\n",
    "plt.legend()\n",
    "plt.xlabel('Date Integer')\n",
    "plt.show()"
   ]
  },
  {
   "cell_type": "markdown",
   "metadata": {},
   "source": [
    "<h2> Calculating Portfolio </h2>"
   ]
  },
  {
   "cell_type": "code",
   "execution_count": null,
   "metadata": {},
   "outputs": [],
   "source": [
    "# Find Stock that has the same about of trade days\n",
    "value = stkframe.count(axis=0)\n",
    "value = value.index[stkframe.count(axis=0) == stkframe['CAR'].count()]\n",
    "value"
   ]
  },
  {
   "cell_type": "code",
   "execution_count": null,
   "metadata": {},
   "outputs": [],
   "source": [
    "#Create Porfolio by randomly selecting 6 Stocks\n",
    "selectStock = []\n",
    "for i in range(0,6):\n",
    "    rand_indx = np.random.randint(len(value))\n",
    "    selectStock.append(value[rand_indx])\n",
    "\n",
    "selectStock = ['CAR','GWEST','JMMBGL','JSE','SCIJMD','VMIL']"
   ]
  },
  {
   "cell_type": "code",
   "execution_count": null,
   "metadata": {},
   "outputs": [],
   "source": [
    "rate_return[selectStock].describe()"
   ]
  },
  {
   "cell_type": "code",
   "execution_count": null,
   "metadata": {
    "scrolled": true
   },
   "outputs": [],
   "source": [
    "plt.rcParams.update({'font.size': 9})\n",
    "portfolio_compare = pd.DataFrame\n",
    "portfolio_compare = stkframe[selectStock]\n",
    "portfolio_compare['JSE-Index'] = df_ind_data['JSE-Index']\n",
    "(portfolio_compare / portfolio_compare.iloc[0] * 100).plot(figsize = (15, 6),linewidth=1);\n",
    "plt.show()\n",
    "#df_ind_data['JSE-Index']\n",
    "#portfolio_compare[selectStock].tail()"
   ]
  },
  {
   "cell_type": "markdown",
   "metadata": {},
   "source": [
    "<h3> Calculate Portfolio Rate of Return </h3>"
   ]
  },
  {
   "cell_type": "code",
   "execution_count": null,
   "metadata": {},
   "outputs": [],
   "source": [
    "#Equally weighted Portfolio\n",
    "weights = np.array([0.381762259,0.005572008,0.007400742,0.027681738,0.03950554,0.538077713])"
   ]
  },
  {
   "cell_type": "code",
   "execution_count": null,
   "metadata": {},
   "outputs": [],
   "source": [
    "pfolio_rate_return = str(round(np.dot(avg_returns[selectStock], weights),5) * 100) + \"%\"\n",
    "'Returns on Porfolio :' + pfolio_rate_return "
   ]
  },
  {
   "cell_type": "markdown",
   "metadata": {},
   "source": [
    "<h3> Calculate Portfolio Risk </h3>"
   ]
  },
  {
   "cell_type": "code",
   "execution_count": null,
   "metadata": {},
   "outputs": [],
   "source": [
    "# Calculate the covariance of the total portfolio\n",
    "portfolio_var = np.dot(weights.T, np.dot(rate_return[selectStock].cov() * 250, weights))\n",
    "'Variance :' + str(round(portfolio_var,5)*100) + '%'"
   ]
  },
  {
   "cell_type": "code",
   "execution_count": null,
   "metadata": {},
   "outputs": [],
   "source": [
    "#Portfolio Volatilty\n",
    "portfolio_vol = np.dot(weights.T, np.dot(rate_return[selectStock].cov() * 250, weights)) ** 0.5\n",
    "'Volitility :' + str(round(portfolio_vol, 3)*100) + '%' "
   ]
  },
  {
   "cell_type": "markdown",
   "metadata": {},
   "source": [
    "<h3> Markowitz Portfolio effeciency Frontier </h3>"
   ]
  },
  {
   "cell_type": "code",
   "execution_count": null,
   "metadata": {},
   "outputs": [],
   "source": [
    "(rate_return[selectStock].mean() * 250)*100,rate_return[selectStock].cov() * 250,rate_return[selectStock].corr()"
   ]
  },
  {
   "cell_type": "code",
   "execution_count": null,
   "metadata": {},
   "outputs": [],
   "source": [
    "frontier_pfolio_return = []\n",
    "frontier_pfolio_vol = []\n",
    "frontier_pfolio_weight = []\n",
    "frontier_pfolio_sharpe = []\n",
    "for x in range(0, 50000):\n",
    "    ef_weights = np.random.random(len(selectStock))\n",
    "    ef_weights /= np.sum(ef_weights)\n",
    "    preturn = np.dot(avg_returns[selectStock]*100, ef_weights)\n",
    "    pvol = np.sqrt(np.dot(ef_weights.T, np.dot(rate_return[selectStock].cov() * 250, ef_weights)))*100\n",
    "    psharpe = (preturn - bondRiskFreeRate) / pvol\n",
    "    #add values to list\n",
    "    frontier_pfolio_return.append(preturn)\n",
    "    frontier_pfolio_vol.append(pvol)\n",
    "    frontier_pfolio_weight.append(ef_weights)\n",
    "    frontier_pfolio_sharpe.append(psharpe)\n",
    "    \n",
    "frontier_pfolio_return = np.array(frontier_pfolio_return)\n",
    "frontier_pfolio_vol = np.array(frontier_pfolio_vol)\n",
    "frontier_pfolio_weight = np.array(frontier_pfolio_weight)\n",
    "frontier_pfolio_sharpe = np.array(frontier_pfolio_sharpe)\n",
    "\n",
    "\n",
    "frontier_pfolio_return[:5],frontier_pfolio_vol[:5]"
   ]
  },
  {
   "cell_type": "code",
   "execution_count": null,
   "metadata": {},
   "outputs": [],
   "source": [
    "frontier_pfolio_frame = pd.DataFrame({'Return':frontier_pfolio_return,'Volitile':frontier_pfolio_vol,'Sharpe':frontier_pfolio_sharpe})\n",
    "\n",
    "# extend original dictionary to accomodate each ticker and weight in the portfolio\n",
    "for counter,symbol in enumerate(selectStock):\n",
    "    frontier_pfolio_frame[symbol+' weight'] = [weight[counter] for weight in frontier_pfolio_weight]\n",
    "    \n",
    "# find min Volatility & max sharpe values in the dataframe (df)\n",
    "min_volatility = frontier_pfolio_frame['Volitile'].min()\n",
    "max_sharpe = frontier_pfolio_frame['Sharpe'].max()\n",
    "\n",
    "# use the min, max values to locate and create the two special portfolios\n",
    "sharpe_portfolio = frontier_pfolio_frame.loc[frontier_pfolio_frame['Sharpe'] == max_sharpe]\n",
    "min_variance_port = frontier_pfolio_frame.loc[frontier_pfolio_frame['Volitile'] == min_volatility]\n",
    "\n",
    "frontier_pfolio_frame=frontier_pfolio_frame.sort_values(by=['Volitile'],ascending=False)\n",
    "frontier_pfolio_frame.head()"
   ]
  },
  {
   "cell_type": "code",
   "execution_count": null,
   "metadata": {},
   "outputs": [],
   "source": [
    "frontier_pfolio_frame.tail()"
   ]
  },
  {
   "cell_type": "code",
   "execution_count": null,
   "metadata": {},
   "outputs": [],
   "source": [
    "plt.style.use('seaborn-dark')\n",
    "frontier_pfolio_frame.plot(x='Volitile',y='Return',c='Sharpe',kind='scatter',cmap='RdYlGn', edgecolors='black',\n",
    "                           figsize=(10,8),grid=True);\n",
    "\n",
    "plt.scatter(x=sharpe_portfolio['Volitile'], y=sharpe_portfolio['Return'], c='red', marker='D', s=200)\n",
    "plt.scatter(x=min_variance_port['Volitile'], y=min_variance_port['Return'], c='blue', marker='D', s=200 )\n",
    "\n",
    "plt.xlabel('Expected Volitility')\n",
    "plt.ylabel('Expected Return')\n",
    "plt.title('Efficient Frontier')\n",
    "plt.show()"
   ]
  },
  {
   "cell_type": "code",
   "execution_count": null,
   "metadata": {},
   "outputs": [],
   "source": [
    "# Red Dot portfolio with best Sharpe ratio (Best returns for risk)\n",
    "sharpe_portfolio"
   ]
  },
  {
   "cell_type": "code",
   "execution_count": null,
   "metadata": {},
   "outputs": [],
   "source": [
    "# Blue Dot stock with least varience / risk\n",
    "min_variance_port"
   ]
  },
  {
   "cell_type": "code",
   "execution_count": null,
   "metadata": {},
   "outputs": [],
   "source": []
  }
 ],
 "metadata": {
  "kernelspec": {
   "display_name": "Python 3",
   "language": "python",
   "name": "python3"
  },
  "language_info": {
   "codemirror_mode": {
    "name": "ipython",
    "version": 3
   },
   "file_extension": ".py",
   "mimetype": "text/x-python",
   "name": "python",
   "nbconvert_exporter": "python",
   "pygments_lexer": "ipython3",
   "version": "3.7.0"
  }
 },
 "nbformat": 4,
 "nbformat_minor": 2
}
