{
 "cells": [
  {
   "cell_type": "markdown",
   "metadata": {},
   "source": [
    "<h1>Jamaica Stock Exchange Analysis  </h1>\n",
    "<p> Basic anslysis data sciences information </p>\n",
    "<ul> <li> Currently calculation using Simple Rate of Return </li>\n",
    "<li> Adjustment of split stocks 2017-2018</li>\n",
    "<li> Add Portfolio </li>\n",
    "</ul>\n",
    "<p><b> #Todo </b><i>Adjust for dividends to stock analysis</i></p>\n",
    "<p><b> #Todo </b><i> Risk calculation </i></p>\n",
    "<p><b> #Todo </b><i> Regression on stocks </i></p>\n",
    "<p>&copy; 2018 Romayne Whyte (Ijasoft) <p>\n",
    "\n"
   ]
  },
  {
   "cell_type": "code",
   "execution_count": null,
   "metadata": {},
   "outputs": [],
   "source": [
    "import pandas as pd\n",
    "import numpy as np\n",
    "import os\n",
    "import datetime \n",
    "import matplotlib.pyplot as plt\n",
    "from scipy import linalg"
   ]
  },
  {
   "cell_type": "markdown",
   "metadata": {},
   "source": [
    "<h2>Pulling Informtion from CSV Files</h2>"
   ]
  },
  {
   "cell_type": "code",
   "execution_count": null,
   "metadata": {},
   "outputs": [],
   "source": [
    "#Pull the valid stock information\n",
    "slist = []\n",
    "filelist = os.listdir('c:/project/stockcsv/')\n",
    "for filename in filelist:\n",
    "    slist.append(pd.read_csv('c:/project/stockcsv/'+filename))\n",
    "    \n",
    "frame = pd.concat(slist, axis = 0, ignore_index = True)\n",
    "frame = frame.sort_values(by='Date')\n",
    "frame.head()"
   ]
  },
  {
   "cell_type": "code",
   "execution_count": null,
   "metadata": {},
   "outputs": [],
   "source": [
    "#Pull the list of delisted to remove from stock frame\n",
    "framevalid = pd.read_csv('c:/project/stockdelist/stockvalid.csv')\n",
    "framevalid = framevalid.rename(columns={'Instrument Code': 'Symbol'})\n",
    "framevalid.head()"
   ]
  },
  {
   "cell_type": "code",
   "execution_count": null,
   "metadata": {},
   "outputs": [],
   "source": [
    "slist = []\n",
    "slist.append(pd.read_csv('c:/project/stocksplit/corporate-actions (1).csv'))\n",
    "slist.append(pd.read_csv('c:/project/stocksplit/corporate-actions (2).csv'))\n",
    "df_info = pd.concat(slist, axis = 0, ignore_index = True)\n",
    "df_info.head()"
   ]
  },
  {
   "cell_type": "code",
   "execution_count": null,
   "metadata": {
    "scrolled": true
   },
   "outputs": [],
   "source": [
    "#Pull the valid stock Indicies\n",
    "\n",
    "slist = []\n",
    "filelist = os.listdir('c:/project/stockindicies/')\n",
    "for filename in filelist:\n",
    "    slist.append(pd.read_csv('c:/project/stockindicies/'+filename))\n",
    "    \n",
    "stkindices_frame = pd.concat(slist, axis = 0, ignore_index = True)\n",
    "stkindices_frame = stkindices_frame.dropna(axis=0)\n",
    "stkindices_frame"
   ]
  },
  {
   "cell_type": "markdown",
   "metadata": {},
   "source": [
    "<h2>Time for Clean Up</h2>"
   ]
  },
  {
   "cell_type": "code",
   "execution_count": null,
   "metadata": {},
   "outputs": [],
   "source": [
    "stkindices_frame = stkindices_frame.drop(['Change ($)','Change (%)','Volume Traded'],axis=1)\n",
    "stkindices_frame['Date'] = pd.to_datetime(stkindices_frame['Date'])"
   ]
  },
  {
   "cell_type": "code",
   "execution_count": null,
   "metadata": {
    "scrolled": true
   },
   "outputs": [],
   "source": [
    "#split the indicies by index\n",
    "gp_index = stkindices_frame.groupby(\"Index\")\n",
    "stk_indicies_list = [gp_index.get_group(x) for x in gp_index.groups]\n",
    "\n",
    "df_ind_data = pd.DataFrame()\n",
    "for idx, index in enumerate(stk_indicies_list):\n",
    "    stk_indicies_list[idx] = stk_indicies_list[idx].set_index('Date')\n",
    "    df_ind_data[index['Index'].iloc[0]] = stk_indicies_list[idx]['Value']\n",
    "\n",
    "df_ind_data.head()"
   ]
  },
  {
   "cell_type": "code",
   "execution_count": null,
   "metadata": {},
   "outputs": [],
   "source": []
  },
  {
   "cell_type": "code",
   "execution_count": null,
   "metadata": {},
   "outputs": [],
   "source": [
    "frame = frame.rename(columns={'Close Price': 'Close'})\n",
    "frame.head()"
   ]
  },
  {
   "cell_type": "code",
   "execution_count": null,
   "metadata": {},
   "outputs": [],
   "source": [
    "framevalid = framevalid[framevalid.Type == \"ORDINARY\"]\n",
    "framevalid.head()"
   ]
  },
  {
   "cell_type": "code",
   "execution_count": null,
   "metadata": {},
   "outputs": [],
   "source": [
    "#Remove unnecessary columns\n",
    "frame = frame.drop(['52 Week High','52 Week Low','Current Year Div','Today High','Today Low','Last Traded','Price Change','Closing Bid','Closing Ask','Previous Year Div','Volume (non block)'],axis=1)\n",
    "frame.head()"
   ]
  },
  {
   "cell_type": "code",
   "execution_count": null,
   "metadata": {},
   "outputs": [],
   "source": [
    "#filter for only the valid stocks\n",
    "frame = frame[frame[\"Symbol\"].isin(framevalid[\"Symbol\"].tolist())]\n",
    "frame.head()"
   ]
  },
  {
   "cell_type": "code",
   "execution_count": null,
   "metadata": {},
   "outputs": [],
   "source": [
    "\n",
    "frame['Date'] = pd.to_datetime(frame['Date'])\n",
    "frame.head()"
   ]
  },
  {
   "cell_type": "code",
   "execution_count": null,
   "metadata": {},
   "outputs": [],
   "source": [
    "#Extract the Split Information from the Info dataframe\n",
    "df_info[\"Action\"] = df_info[\"Action\"].str.strip()\n",
    "df_split = df_info[df_info[\"Action\"]=='Stock Split']\n",
    "df_split = df_split.drop(['Record Date','Action','Payment Date'],axis=1)\n",
    "df_split['Ex-Date'] = pd.to_datetime(df_split['Ex-Date'])\n",
    "df_split = df_split.dropna(axis=0,how='any')\n",
    "df_split"
   ]
  },
  {
   "cell_type": "code",
   "execution_count": null,
   "metadata": {},
   "outputs": [],
   "source": [
    "#Extract the Dividend from the Info Dataframe\n",
    "df_info[\"Action\"] = df_info[\"Action\"].str.strip()\n",
    "df_div = df_info[df_info[\"Action\"]!='Stock Split']\n",
    "df_div = df_info.drop(['Action','Record Date','Payment Date'],axis=1)\n",
    "df_div['Ex-Date'] = pd.to_datetime(df_div['Ex-Date'])\n",
    "df_div = df_div.dropna(axis=0,how='any')\n",
    "df_div"
   ]
  },
  {
   "cell_type": "code",
   "execution_count": null,
   "metadata": {},
   "outputs": [],
   "source": [
    "#Fix the stock Split Issues\n",
    "frame['split'] = 1.0#np.nan\n",
    "frame['dividend'] = 0.00 #np.nan\n",
    "frame.head()"
   ]
  },
  {
   "cell_type": "code",
   "execution_count": null,
   "metadata": {},
   "outputs": [],
   "source": [
    "#Remove Duplicated stock price\n",
    "frame = frame.drop_duplicates(subset = [\"Symbol\",\"Date\"], keep=False)"
   ]
  },
  {
   "cell_type": "code",
   "execution_count": null,
   "metadata": {},
   "outputs": [],
   "source": [
    "#Can be used to check for duplication but will raise error of no duplication \n",
    "#pd.concat(g for _, g in frame.groupby([\"Symbol\",\"Date\"]) if len(g) > 1)"
   ]
  },
  {
   "cell_type": "code",
   "execution_count": null,
   "metadata": {},
   "outputs": [],
   "source": [
    "gp = frame.groupby(\"Symbol\")"
   ]
  },
  {
   "cell_type": "code",
   "execution_count": null,
   "metadata": {},
   "outputs": [],
   "source": [
    "stklist = [gp.get_group(x) for x in gp.groups]\n",
    "\n",
    "# swap CAR with 138SL\n",
    "temp = stklist[0]\n",
    "stklist[0] = stklist[10]\n",
    "stklist[10] = temp"
   ]
  },
  {
   "cell_type": "code",
   "execution_count": null,
   "metadata": {},
   "outputs": [],
   "source": [
    "for idx, stk in enumerate(stklist):\n",
    "    stklist[idx] = stklist[idx].set_index('Date')    \n",
    "\n",
    "stklist"
   ]
  },
  {
   "cell_type": "code",
   "execution_count": null,
   "metadata": {},
   "outputs": [],
   "source": [
    "#Assign the split values per symbol and date from split dataframe to the stock dataframe\n",
    "for idx, stk in enumerate(stklist):    \n",
    "    symbol = stk['Symbol'][0]\n",
    "    if not df_split[(df_split.Symbol == symbol)].empty:\n",
    "        split_s = df_split[(df_split.Symbol == symbol)]        \n",
    "        stk.at[split_s['Ex-Date'].iloc[0],'split'] = split_s['Dividend Amount'].iloc[0]\n",
    "        print(stk[stk.index.isin(split_s['Ex-Date'].tolist())])\n",
    "        stklist[idx] = stk                "
   ]
  },
  {
   "cell_type": "code",
   "execution_count": null,
   "metadata": {},
   "outputs": [],
   "source": [
    "#Assign the dividend values per symbol and date from info dataframe to the stock dataframe\n",
    "for idx, stk in enumerate(stklist):    \n",
    "    symbol = stk['Symbol'][0]\n",
    "    if not df_div[(df_div.Symbol == symbol)].empty:\n",
    "        div_s = df_div[(df_div.Symbol == symbol)]\n",
    "        for ds in div_s.values:            \n",
    "            stk.at[ds[2],'dividend'] = ds[1]        \n",
    "        print(stk[stk.index.isin(div_s['Ex-Date'].tolist())])\n",
    "        stklist[idx] = stk  "
   ]
  },
  {
   "cell_type": "code",
   "execution_count": null,
   "metadata": {},
   "outputs": [],
   "source": [
    "# https://joshschertz.com/2016/08/27/Vectorizing-Adjusted-Close-with-Python/\n",
    "def calculate_adjusted_prices(df, column):\n",
    "    \"\"\" Vectorized approach for calculating the adjusted prices for the\n",
    "    specified column in the provided DataFrame. This creates a new column\n",
    "    called 'adj_<column name>' with the adjusted prices. This function requires\n",
    "    that the DataFrame have columns with dividend and split_ratio values.\n",
    "\n",
    "    :param df: DataFrame with raw prices along with dividend and split_ratio\n",
    "        values\n",
    "    :param column: String of which price column should have adjusted prices\n",
    "        created for it\n",
    "    :return: DataFrame with the addition of the adjusted price column\n",
    "    \"\"\"\n",
    "    adj_column = 'adj_' + column + '_Check'\n",
    "\n",
    "    # Reverse the DataFrame order, sorting by date in descending order\n",
    "    df.sort_index(ascending=False, inplace=True)\n",
    "\n",
    "    price_col = df[column].values\n",
    "    split_col = df['split'].values\n",
    "    dividend_col = df['dividend'].values\n",
    "    adj_price_col = np.zeros(len(df.index))\n",
    "    adj_price_col[0] = price_col[0]\n",
    "          \n",
    "    for i in range(1, len(price_col)):\n",
    "        adj_price_col[i] = round((adj_price_col[i - 1] + adj_price_col[i - 1] *\n",
    "                   (((price_col[i] * (1/split_col[i - 1])) -\n",
    "                     price_col[i - 1]) / price_col[i - 1])), 4)\n",
    "\n",
    "    df[adj_column] = adj_price_col\n",
    "\n",
    "    # Change the DataFrame order back to dates ascending\n",
    "    df.sort_index(ascending=True, inplace=True)\n",
    "\n",
    "    return df"
   ]
  },
  {
   "cell_type": "code",
   "execution_count": null,
   "metadata": {},
   "outputs": [],
   "source": [
    "for idx, stk in enumerate(stklist):        \n",
    "    stklist[idx] = calculate_adjusted_prices(stklist[idx],'Close')\n",
    "    print(stklist[idx].head())"
   ]
  },
  {
   "cell_type": "code",
   "execution_count": null,
   "metadata": {},
   "outputs": [],
   "source": [
    "stkframe = pd.DataFrame()\n",
    "for stk in stklist:\n",
    "    stkframe[stk['Symbol'][0]] = stk['adj_Close_Check']"
   ]
  },
  {
   "cell_type": "code",
   "execution_count": null,
   "metadata": {},
   "outputs": [],
   "source": [
    "stkframe.head()"
   ]
  },
  {
   "cell_type": "code",
   "execution_count": null,
   "metadata": {},
   "outputs": [],
   "source": [
    "stkframe.tail()"
   ]
  },
  {
   "cell_type": "code",
   "execution_count": null,
   "metadata": {},
   "outputs": [],
   "source": [
    "#filter the data for the 01 January 2018 to 03 December, 2018\n",
    "stkframe=stkframe['2018-01-01': '2018-12-31']"
   ]
  },
  {
   "cell_type": "code",
   "execution_count": null,
   "metadata": {},
   "outputs": [],
   "source": [
    "stkframe.info()"
   ]
  },
  {
   "cell_type": "code",
   "execution_count": null,
   "metadata": {},
   "outputs": [],
   "source": [
    "stkframe.head()"
   ]
  },
  {
   "cell_type": "code",
   "execution_count": null,
   "metadata": {},
   "outputs": [],
   "source": [
    "stkframe.tail()"
   ]
  },
  {
   "cell_type": "code",
   "execution_count": null,
   "metadata": {},
   "outputs": [],
   "source": [
    "#filter the data for the 01 January 2018 to 03 December, 2018\n",
    "#df_ind_data=df_ind_data['2018-01-01': '2018-11-31']\n",
    "\n",
    "df_ind_data = df_ind_data['2018-01-01':'2018-11-23']\n"
   ]
  },
  {
   "cell_type": "markdown",
   "metadata": {},
   "source": [
    "<h2>Time for Some Financial Analysis</h2>"
   ]
  },
  {
   "cell_type": "markdown",
   "metadata": {},
   "source": [
    "<h3> Analysis for the indicies <h3>"
   ]
  },
  {
   "cell_type": "code",
   "execution_count": null,
   "metadata": {},
   "outputs": [],
   "source": [
    "#Jamica Indices Return \n",
    "ind_returns = (df_ind_data / df_ind_data.shift(1)) - 1\n",
    "ind_returns.head()"
   ]
  },
  {
   "cell_type": "code",
   "execution_count": null,
   "metadata": {},
   "outputs": [],
   "source": [
    "#ind_returns['All-Jamaican'].plot()\n",
    "plt.figure(figsize=(40,20))\n",
    "plt.rcParams.update({'font.size': 9})\n",
    "#plt.show()\n",
    "(df_ind_data / df_ind_data.iloc[0] * 100).plot(figsize=(15, 6));\n",
    "plt.show()\n"
   ]
  },
  {
   "cell_type": "code",
   "execution_count": null,
   "metadata": {},
   "outputs": [],
   "source": [
    "#indicies Annual Rate of Return\n",
    "annual_ind_returns = ind_returns.mean() * 250\n",
    "annual_ind_returns"
   ]
  },
  {
   "cell_type": "markdown",
   "metadata": {},
   "source": [
    "<h3> Analysis for Jamaia Stocks </h3>"
   ]
  },
  {
   "cell_type": "code",
   "execution_count": null,
   "metadata": {},
   "outputs": [],
   "source": [
    "rate_return = (stkframe/stkframe.shift(1))-1\n",
    "rate_return.head()"
   ]
  },
  {
   "cell_type": "code",
   "execution_count": null,
   "metadata": {},
   "outputs": [],
   "source": [
    "rate_return = rate_return.replace([np.inf, -np.inf], np.nan)\n",
    "rate_return.head()"
   ]
  },
  {
   "cell_type": "code",
   "execution_count": null,
   "metadata": {},
   "outputs": [],
   "source": [
    "#Sample of rate of return\n",
    "rate_return['PULS'].plot()\n",
    "plt.figure(figsize=(30,15), dpi=80, facecolor='w', edgecolor='k')\n",
    "plt.rcParams.update({'font.size': 4})\n",
    "plt.show()"
   ]
  },
  {
   "cell_type": "code",
   "execution_count": null,
   "metadata": {
    "scrolled": true
   },
   "outputs": [],
   "source": [
    "\n",
    "sym = 'PULS'\n",
    "\n",
    "df_closing = stkframe[sym]\n",
    "df_7days = df_closing.rolling( 7 ).mean()\n",
    "df_30days = df_closing.rolling( 30 ).mean()\n",
    "\n",
    "fig = plt.figure(figsize=(30,15))\n",
    "plt.rcParams.update({'font.size': 22})\n",
    "fig.autofmt_xdate()\n",
    "ax = fig.add_subplot(1,1,1)\n",
    "ax.plot(df_closing.index, df_closing, label=sym)\n",
    "ax.plot(df_7days.index, df_7days, label='7 days rolling')\n",
    "ax.plot(df_30days.index, df_30days, label='30 days rolling')\n",
    "ax.grid()\n",
    "ax.legend(loc=3)\n",
    "ax.set_xlabel('Date')\n",
    "plt.title(sym+' Adjusted Closes & Rolling Averages, IPO through 2018')\n",
    "plt.plot()"
   ]
  },
  {
   "cell_type": "code",
   "execution_count": null,
   "metadata": {},
   "outputs": [],
   "source": [
    "stkframe['2018-07-01':'2018-09-30']['CAR']"
   ]
  },
  {
   "cell_type": "code",
   "execution_count": null,
   "metadata": {},
   "outputs": [],
   "source": [
    "#Calculate the Average Rate of Return\n",
    "avg_returns = round(rate_return.mean() * 250,5) * 100\n",
    "# Drop all records with no application\n",
    "avg_returns = avg_returns.dropna()\n",
    "# Drop all record with 0 as rate of return\n",
    "avg_returns = avg_returns.drop(avg_returns[avg_returns == 0].index)\n",
    "avg_returns[avg_returns > 0].sort_values()"
   ]
  },
  {
   "cell_type": "code",
   "execution_count": null,
   "metadata": {},
   "outputs": [],
   "source": [
    "#find the stocks that have split\n",
    "avg_returns[avg_returns <= 0].sort_values()"
   ]
  },
  {
   "cell_type": "code",
   "execution_count": null,
   "metadata": {},
   "outputs": [],
   "source": [
    "#%load?"
   ]
  },
  {
   "cell_type": "markdown",
   "metadata": {},
   "source": [
    "<h2> Portfolio Assessment </h2>"
   ]
  },
  {
   "cell_type": "code",
   "execution_count": null,
   "metadata": {},
   "outputs": [],
   "source": [
    "value = stkframe.count(axis=0)\n",
    "value = value.index[stkframe.count(axis=0) == stkframe['CAR'].count()]\n",
    "value"
   ]
  },
  {
   "cell_type": "code",
   "execution_count": null,
   "metadata": {},
   "outputs": [],
   "source": [
    "#Porfolio\n",
    "selectStock = []\n",
    "for i in range(0,6):\n",
    "    rand_indx = np.random.randint(len(value))\n",
    "    selectStock.append(value[rand_indx])\n",
    "\n",
    "selectStock"
   ]
  },
  {
   "cell_type": "code",
   "execution_count": null,
   "metadata": {
    "scrolled": true
   },
   "outputs": [],
   "source": [
    "portfolio_compare = pd.DataFrame\n",
    "portfolio_compare = stkframe[selectStock]\n",
    "portfolio_compare['JSE-Index'] = df_ind_data['JSE-Index']\n",
    "(portfolio_compare / portfolio_compare.iloc[0] * 100).plot(figsize = (15, 6));\n",
    "plt.rcParams.update({'font.size': 9})\n",
    "plt.show() \n",
    "#df_ind_data['JSE-Index']\n",
    "#portfolio_compare[selectStock].tail()"
   ]
  },
  {
   "cell_type": "code",
   "execution_count": null,
   "metadata": {},
   "outputs": [],
   "source": [
    "weights = np.array([0.1667, 0.1667, 0.1667, 0.1667, 0.1667, 0.1667])"
   ]
  },
  {
   "cell_type": "code",
   "execution_count": null,
   "metadata": {},
   "outputs": [],
   "source": [
    "portfolio = str(round(np.dot(avg_returns[selectStock], weights),2)) + \"%\"\n",
    "portfolio"
   ]
  },
  {
   "cell_type": "code",
   "execution_count": null,
   "metadata": {},
   "outputs": [],
   "source": []
  }
 ],
 "metadata": {
  "kernelspec": {
   "display_name": "Python 3",
   "language": "python",
   "name": "python3"
  },
  "language_info": {
   "codemirror_mode": {
    "name": "ipython",
    "version": 3
   },
   "file_extension": ".py",
   "mimetype": "text/x-python",
   "name": "python",
   "nbconvert_exporter": "python",
   "pygments_lexer": "ipython3",
   "version": "3.7.0"
  }
 },
 "nbformat": 4,
 "nbformat_minor": 2
}
